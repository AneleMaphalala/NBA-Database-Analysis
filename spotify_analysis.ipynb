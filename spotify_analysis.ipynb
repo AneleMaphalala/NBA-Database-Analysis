{
 "cells": [
  {
   "cell_type": "markdown",
   "metadata": {},
   "source": [
    "# **Spotify Database**"
   ]
  },
  {
   "cell_type": "markdown",
   "metadata": {},
   "source": [
    "# Overview\n",
    "\n",
    "A Spotify database is a sophisticated system designed to handle diverse data requirements, from managing user information and music metadata to capturing detailed listening habits and social interactions. It leverages a variety of database technologies to ensure scalability, real-time processing, and high availability, providing a seamless music streaming experience for millions of users worldwide."
   ]
  },
  {
   "cell_type": "markdown",
   "metadata": {},
   "source": [
    "## Data Description\n",
    "This database consists of all songs available on Spotify. It includes several key attributes that detail various aspects of songs; including song duration, genre, song title, artist and year of release. \n",
    "\n",
    "- `column1`:An identifier or index for each entry in the dataset.\n",
    "- `title`: The title of the song.\n",
    "- `artist`: The name of the artist who performed the song.\n",
    "- `top_genre`: The primary genre of the song, likely based on popularity or classification.\n",
    "- `year`: The year in which the song was released.\n",
    "- `bpm`: This column denotes the beats per minute (BPM) of the song, which indicates its tempo or speed.\n",
    "- `nrgy`: The energy level of the song, which could be a measure of intensity or excitement.\n",
    "- `dnce`: The danceability of the song, indicating how suitable it is for dancing.\n",
    "- `dB`: The volume or loudness of the song, measured in decibels (dB).\n",
    "- `clive`: An indication of whether the song was recorded live or in a studio setting.\n",
    "- `val`: The valence or mood of the song, indicating its positivity or negativity.\n",
    "- `dur`: The duration of the song in some unit of time (e.g., seconds or minutes).\n",
    "- `acous`: The acousticness of the song, indicating the extent to which it features acoustic elements.\n",
    "- `spch`: The speechiness of the song, which could indicate the presence of spoken words or vocals.\n",
    "- `pop`: The popularity of the song, though the specific measure or scale of popularity is not specified."
   ]
  },
  {
   "cell_type": "markdown",
   "metadata": {},
   "source": [
    "<a id='cont'></a>\n",
    "\n",
    "## Table of Contents\n",
    "- [1. Load Database](#one)\n",
    "- [2. Data Analysis](#two)"
   ]
  },
  {
   "cell_type": "markdown",
   "metadata": {},
   "source": [
    "<a id='one'></a>\n",
    "\n",
    "# 1. Load Database\n",
    "\n",
    "[Back to Table of Contents](#cont)\n",
    "\n",
    "----"
   ]
  },
  {
   "cell_type": "code",
   "execution_count": 1,
   "metadata": {},
   "outputs": [],
   "source": [
    "%load_ext sql"
   ]
  },
  {
   "cell_type": "code",
   "execution_count": 2,
   "metadata": {},
   "outputs": [],
   "source": [
    "%%sql \n",
    "\n",
    "sqlite:///Spotify.db"
   ]
  },
  {
   "cell_type": "code",
   "execution_count": 4,
   "metadata": {},
   "outputs": [
    {
     "name": "stdout",
     "output_type": "stream",
     "text": [
      " * sqlite:///Spotify.db\n",
      "Done.\n"
     ]
    },
    {
     "data": {
      "text/html": [
       "<table>\n",
       "    <thead>\n",
       "        <tr>\n",
       "            <th>name</th>\n",
       "        </tr>\n",
       "    </thead>\n",
       "    <tbody>\n",
       "        <tr>\n",
       "            <td>Spotify</td>\n",
       "        </tr>\n",
       "    </tbody>\n",
       "</table>"
      ],
      "text/plain": [
       "[('Spotify',)]"
      ]
     },
     "execution_count": 4,
     "metadata": {},
     "output_type": "execute_result"
    }
   ],
   "source": [
    "%%sql\n",
    "SELECT name FROM sqlite_master WHERE type IN ('table','view') AND name NOT LIKE 'sqlite_%' ORDER BY 1"
   ]
  },
  {
   "cell_type": "markdown",
   "metadata": {},
   "source": [
    "##### View columns of the table"
   ]
  },
  {
   "cell_type": "code",
   "execution_count": 9,
   "metadata": {},
   "outputs": [
    {
     "name": "stdout",
     "output_type": "stream",
     "text": [
      " * sqlite:///Spotify.db\n",
      "Done.\n"
     ]
    },
    {
     "data": {
      "text/html": [
       "<table>\n",
       "    <thead>\n",
       "        <tr>\n",
       "            <th>cid</th>\n",
       "            <th>name</th>\n",
       "            <th>type</th>\n",
       "            <th>notnull</th>\n",
       "            <th>dflt_value</th>\n",
       "            <th>pk</th>\n",
       "        </tr>\n",
       "    </thead>\n",
       "    <tbody>\n",
       "        <tr>\n",
       "            <td>0</td>\n",
       "            <td></td>\n",
       "            <td>TEXT</td>\n",
       "            <td>0</td>\n",
       "            <td>None</td>\n",
       "            <td>0</td>\n",
       "        </tr>\n",
       "        <tr>\n",
       "            <td>1</td>\n",
       "            <td>title</td>\n",
       "            <td>TEXT</td>\n",
       "            <td>0</td>\n",
       "            <td>None</td>\n",
       "            <td>0</td>\n",
       "        </tr>\n",
       "        <tr>\n",
       "            <td>2</td>\n",
       "            <td>artist</td>\n",
       "            <td>TEXT</td>\n",
       "            <td>0</td>\n",
       "            <td>None</td>\n",
       "            <td>0</td>\n",
       "        </tr>\n",
       "        <tr>\n",
       "            <td>3</td>\n",
       "            <td>top genre</td>\n",
       "            <td>TEXT</td>\n",
       "            <td>0</td>\n",
       "            <td>None</td>\n",
       "            <td>0</td>\n",
       "        </tr>\n",
       "        <tr>\n",
       "            <td>4</td>\n",
       "            <td>year</td>\n",
       "            <td>TEXT</td>\n",
       "            <td>0</td>\n",
       "            <td>None</td>\n",
       "            <td>0</td>\n",
       "        </tr>\n",
       "        <tr>\n",
       "            <td>5</td>\n",
       "            <td>bpm</td>\n",
       "            <td>TEXT</td>\n",
       "            <td>0</td>\n",
       "            <td>None</td>\n",
       "            <td>0</td>\n",
       "        </tr>\n",
       "        <tr>\n",
       "            <td>6</td>\n",
       "            <td>nrgy</td>\n",
       "            <td>TEXT</td>\n",
       "            <td>0</td>\n",
       "            <td>None</td>\n",
       "            <td>0</td>\n",
       "        </tr>\n",
       "        <tr>\n",
       "            <td>7</td>\n",
       "            <td>dnce</td>\n",
       "            <td>TEXT</td>\n",
       "            <td>0</td>\n",
       "            <td>None</td>\n",
       "            <td>0</td>\n",
       "        </tr>\n",
       "        <tr>\n",
       "            <td>8</td>\n",
       "            <td>dB</td>\n",
       "            <td>TEXT</td>\n",
       "            <td>0</td>\n",
       "            <td>None</td>\n",
       "            <td>0</td>\n",
       "        </tr>\n",
       "        <tr>\n",
       "            <td>9</td>\n",
       "            <td>live</td>\n",
       "            <td>TEXT</td>\n",
       "            <td>0</td>\n",
       "            <td>None</td>\n",
       "            <td>0</td>\n",
       "        </tr>\n",
       "        <tr>\n",
       "            <td>10</td>\n",
       "            <td>val</td>\n",
       "            <td>TEXT</td>\n",
       "            <td>0</td>\n",
       "            <td>None</td>\n",
       "            <td>0</td>\n",
       "        </tr>\n",
       "        <tr>\n",
       "            <td>11</td>\n",
       "            <td>dur</td>\n",
       "            <td>TEXT</td>\n",
       "            <td>0</td>\n",
       "            <td>None</td>\n",
       "            <td>0</td>\n",
       "        </tr>\n",
       "        <tr>\n",
       "            <td>12</td>\n",
       "            <td>acous</td>\n",
       "            <td>TEXT</td>\n",
       "            <td>0</td>\n",
       "            <td>None</td>\n",
       "            <td>0</td>\n",
       "        </tr>\n",
       "        <tr>\n",
       "            <td>13</td>\n",
       "            <td>spch</td>\n",
       "            <td>TEXT</td>\n",
       "            <td>0</td>\n",
       "            <td>None</td>\n",
       "            <td>0</td>\n",
       "        </tr>\n",
       "        <tr>\n",
       "            <td>14</td>\n",
       "            <td>pop</td>\n",
       "            <td>TEXT</td>\n",
       "            <td>0</td>\n",
       "            <td>None</td>\n",
       "            <td>0</td>\n",
       "        </tr>\n",
       "    </tbody>\n",
       "</table>"
      ],
      "text/plain": [
       "[(0, '', 'TEXT', 0, None, 0),\n",
       " (1, 'title', 'TEXT', 0, None, 0),\n",
       " (2, 'artist', 'TEXT', 0, None, 0),\n",
       " (3, 'top genre', 'TEXT', 0, None, 0),\n",
       " (4, 'year', 'TEXT', 0, None, 0),\n",
       " (5, 'bpm', 'TEXT', 0, None, 0),\n",
       " (6, 'nrgy', 'TEXT', 0, None, 0),\n",
       " (7, 'dnce', 'TEXT', 0, None, 0),\n",
       " (8, 'dB', 'TEXT', 0, None, 0),\n",
       " (9, 'live', 'TEXT', 0, None, 0),\n",
       " (10, 'val', 'TEXT', 0, None, 0),\n",
       " (11, 'dur', 'TEXT', 0, None, 0),\n",
       " (12, 'acous', 'TEXT', 0, None, 0),\n",
       " (13, 'spch', 'TEXT', 0, None, 0),\n",
       " (14, 'pop', 'TEXT', 0, None, 0)]"
      ]
     },
     "execution_count": 9,
     "metadata": {},
     "output_type": "execute_result"
    }
   ],
   "source": [
    "%%sql\n",
    "PRAGMA table_info(spotify)"
   ]
  },
  {
   "cell_type": "markdown",
   "metadata": {},
   "source": [
    "<a id='two'></a>\n",
    "# 2. Data Analysis\n",
    "\n",
    "[Back to Table of Contents](#cont)\n",
    "\n",
    "----"
   ]
  },
  {
   "cell_type": "markdown",
   "metadata": {},
   "source": [
    "#### 1. DataSet View"
   ]
  },
  {
   "cell_type": "code",
   "execution_count": 11,
   "metadata": {},
   "outputs": [
    {
     "name": "stdout",
     "output_type": "stream",
     "text": [
      " * sqlite:///Spotify.db\n",
      "Done.\n"
     ]
    },
    {
     "data": {
      "text/html": [
       "<table>\n",
       "    <thead>\n",
       "        <tr>\n",
       "            <th></th>\n",
       "            <th>title</th>\n",
       "            <th>artist</th>\n",
       "            <th>top genre</th>\n",
       "            <th>year</th>\n",
       "            <th>bpm</th>\n",
       "            <th>nrgy</th>\n",
       "            <th>dnce</th>\n",
       "            <th>dB</th>\n",
       "            <th>live</th>\n",
       "            <th>val</th>\n",
       "            <th>dur</th>\n",
       "            <th>acous</th>\n",
       "            <th>spch</th>\n",
       "            <th>pop</th>\n",
       "        </tr>\n",
       "    </thead>\n",
       "    <tbody>\n",
       "        <tr>\n",
       "            <td>1</td>\n",
       "            <td>Hey, Soul Sister</td>\n",
       "            <td>Train</td>\n",
       "            <td>neo mellow</td>\n",
       "            <td>2010</td>\n",
       "            <td>97</td>\n",
       "            <td>89</td>\n",
       "            <td>67</td>\n",
       "            <td>-4</td>\n",
       "            <td>8</td>\n",
       "            <td>80</td>\n",
       "            <td>217</td>\n",
       "            <td>19</td>\n",
       "            <td>4</td>\n",
       "            <td>83</td>\n",
       "        </tr>\n",
       "        <tr>\n",
       "            <td>2</td>\n",
       "            <td>Love The Way You Lie</td>\n",
       "            <td>Eminem</td>\n",
       "            <td>detroit hip hop</td>\n",
       "            <td>2010</td>\n",
       "            <td>87</td>\n",
       "            <td>93</td>\n",
       "            <td>75</td>\n",
       "            <td>-5</td>\n",
       "            <td>52</td>\n",
       "            <td>64</td>\n",
       "            <td>263</td>\n",
       "            <td>24</td>\n",
       "            <td>23</td>\n",
       "            <td>82</td>\n",
       "        </tr>\n",
       "        <tr>\n",
       "            <td>3</td>\n",
       "            <td>TiK ToK</td>\n",
       "            <td>Kesha</td>\n",
       "            <td>dance pop</td>\n",
       "            <td>2010</td>\n",
       "            <td>120</td>\n",
       "            <td>84</td>\n",
       "            <td>76</td>\n",
       "            <td>-3</td>\n",
       "            <td>29</td>\n",
       "            <td>71</td>\n",
       "            <td>200</td>\n",
       "            <td>10</td>\n",
       "            <td>14</td>\n",
       "            <td>80</td>\n",
       "        </tr>\n",
       "        <tr>\n",
       "            <td>4</td>\n",
       "            <td>Bad Romance</td>\n",
       "            <td>Lady Gaga</td>\n",
       "            <td>dance pop</td>\n",
       "            <td>2010</td>\n",
       "            <td>119</td>\n",
       "            <td>92</td>\n",
       "            <td>70</td>\n",
       "            <td>-4</td>\n",
       "            <td>8</td>\n",
       "            <td>71</td>\n",
       "            <td>295</td>\n",
       "            <td>0</td>\n",
       "            <td>4</td>\n",
       "            <td>79</td>\n",
       "        </tr>\n",
       "        <tr>\n",
       "            <td>5</td>\n",
       "            <td>Just the Way You Are</td>\n",
       "            <td>Bruno Mars</td>\n",
       "            <td>pop</td>\n",
       "            <td>2010</td>\n",
       "            <td>109</td>\n",
       "            <td>84</td>\n",
       "            <td>64</td>\n",
       "            <td>-5</td>\n",
       "            <td>9</td>\n",
       "            <td>43</td>\n",
       "            <td>221</td>\n",
       "            <td>2</td>\n",
       "            <td>4</td>\n",
       "            <td>78</td>\n",
       "        </tr>\n",
       "    </tbody>\n",
       "</table>"
      ],
      "text/plain": [
       "[('1', 'Hey, Soul Sister', 'Train', 'neo mellow', '2010', '97', '89', '67', '-4', '8', '80', '217', '19', '4', '83'),\n",
       " ('2', 'Love The Way You Lie', 'Eminem', 'detroit hip hop', '2010', '87', '93', '75', '-5', '52', '64', '263', '24', '23', '82'),\n",
       " ('3', 'TiK ToK', 'Kesha', 'dance pop', '2010', '120', '84', '76', '-3', '29', '71', '200', '10', '14', '80'),\n",
       " ('4', 'Bad Romance', 'Lady Gaga', 'dance pop', '2010', '119', '92', '70', '-4', '8', '71', '295', '0', '4', '79'),\n",
       " ('5', 'Just the Way You Are', 'Bruno Mars', 'pop', '2010', '109', '84', '64', '-5', '9', '43', '221', '2', '4', '78')]"
      ]
     },
     "execution_count": 11,
     "metadata": {},
     "output_type": "execute_result"
    }
   ],
   "source": [
    "%%sql\n",
    "\n",
    "SELECT *\n",
    "FROM spotify\n",
    "LIMIT 5"
   ]
  }
 ],
 "metadata": {
  "kernelspec": {
   "display_name": "base",
   "language": "python",
   "name": "python3"
  },
  "language_info": {
   "codemirror_mode": {
    "name": "ipython",
    "version": 3
   },
   "file_extension": ".py",
   "mimetype": "text/x-python",
   "name": "python",
   "nbconvert_exporter": "python",
   "pygments_lexer": "ipython3",
   "version": "3.11.5"
  }
 },
 "nbformat": 4,
 "nbformat_minor": 2
}
