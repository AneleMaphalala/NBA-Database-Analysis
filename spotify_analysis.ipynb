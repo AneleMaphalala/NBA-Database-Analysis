{
 "cells": [
  {
   "cell_type": "markdown",
   "metadata": {},
   "source": [
    "# **Spotify Database**"
   ]
  },
  {
   "cell_type": "markdown",
   "metadata": {},
   "source": [
    "# Overview\n",
    "\n",
    "A Spotify database is a sophisticated system designed to handle diverse data requirements, from managing user information and music metadata to capturing detailed listening habits and social interactions. It leverages a variety of database technologies to ensure scalability, real-time processing, and high availability, providing a seamless music streaming experience for millions of users worldwide."
   ]
  },
  {
   "cell_type": "markdown",
   "metadata": {},
   "source": [
    "## Data Description\n",
    "This database consists of all songs available on Spotify. It includes several key attributes that detail various aspects of songs; including song duration, genre, song title, artist and year of release. \n",
    "\n",
    "- `column1`:An identifier or index for each entry in the dataset.\n",
    "- `title`: The title of the song.\n",
    "- `artist`: The name of the artist who performed the song.\n",
    "- `top_genre`: The primary genre of the song, likely based on popularity or classification.\n",
    "- `year`: The year in which the song was released.\n",
    "- `bpm`: This column denotes the beats per minute (BPM) of the song, which indicates its tempo or speed.\n",
    "- `nrgy`: The energy level of the song, which could be a measure of intensity or excitement.\n",
    "- `dnce`: The danceability of the song, indicating how suitable it is for dancing.\n",
    "- `dB`: The volume or loudness of the song, measured in decibels (dB).\n",
    "- `clive`: An indication of whether the song was recorded live or in a studio setting.\n",
    "- `val`: The valence or mood of the song, indicating its positivity or negativity.\n",
    "- `dur`: The duration of the song in some unit of time (e.g., seconds or minutes).\n",
    "- `acous`: The acousticness of the song, indicating the extent to which it features acoustic elements.\n",
    "- `spch`: The speechiness of the song, which could indicate the presence of spoken words or vocals.\n",
    "- `pop`: The popularity of the song, though the specific measure or scale of popularity is not specified."
   ]
  },
  {
   "cell_type": "markdown",
   "metadata": {},
   "source": [
    "## Load Data"
   ]
  },
  {
   "cell_type": "code",
   "execution_count": 1,
   "metadata": {},
   "outputs": [],
   "source": [
    "%load_ext sql"
   ]
  },
  {
   "cell_type": "code",
   "execution_count": 2,
   "metadata": {},
   "outputs": [],
   "source": [
    "%%sql \n",
    "\n",
    "sqlite:///Spotify.db"
   ]
  }
 ],
 "metadata": {
  "kernelspec": {
   "display_name": "base",
   "language": "python",
   "name": "python3"
  },
  "language_info": {
   "codemirror_mode": {
    "name": "ipython",
    "version": 3
   },
   "file_extension": ".py",
   "mimetype": "text/x-python",
   "name": "python",
   "nbconvert_exporter": "python",
   "pygments_lexer": "ipython3",
   "version": "3.11.5"
  }
 },
 "nbformat": 4,
 "nbformat_minor": 2
}
