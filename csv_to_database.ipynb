{
 "cells": [
  {
   "cell_type": "code",
   "execution_count": 1,
   "metadata": {},
   "outputs": [],
   "source": [
    "import sqlite3\n",
    "import csv"
   ]
  },
  {
   "cell_type": "code",
   "execution_count": 2,
   "metadata": {},
   "outputs": [
    {
     "name": "stdout",
     "output_type": "stream",
     "text": [
      "CSV data has been successfully imported into the 'Spotify' table in the database 'Spotify.db'.\n"
     ]
    }
   ],
   "source": [
    "csv_file_path = 'Spotify.csv'\n",
    "db_file_path = 'Spotify.db'\n",
    "table_name = 'Spotify'\n",
    "\n",
    "# Connect to the SQLite database \n",
    "conn = sqlite3.connect(db_file_path)\n",
    "cur = conn.cursor()\n",
    "\n",
    "# Function to create table based on CSV header\n",
    "def create_table_from_csv(file_path, table_name, encoding='utf-8'):\n",
    "    with open(file_path, newline='', encoding=encoding) as csvfile:\n",
    "        reader = csv.reader(csvfile)\n",
    "        headers = next(reader)\n",
    "        columns = ', '.join([f'\"{header}\" TEXT' for header in headers])\n",
    "        cur.execute(f'CREATE TABLE IF NOT EXISTS {table_name} ({columns})')\n",
    "\n",
    "# Function to import CSV data into the table\n",
    "def import_csv_to_table(file_path, table_name, encoding='utf-8'):\n",
    "    with open(file_path, newline='', encoding=encoding) as csvfile:\n",
    "        reader = csv.reader(csvfile)\n",
    "        headers = next(reader)\n",
    "        placeholders = ', '.join(['?' for header in headers])\n",
    "        for row in reader:\n",
    "            cur.execute(f'INSERT INTO {table_name} VALUES ({placeholders})', row)\n",
    "\n",
    "# Create table and import data\n",
    "create_table_from_csv(csv_file_path, table_name, encoding='latin1')  \n",
    "import_csv_to_table(csv_file_path, table_name, encoding='latin1')    \n",
    "\n",
    "# Commit and close the connection\n",
    "conn.commit()\n",
    "conn.close()\n",
    "\n",
    "print(f\"CSV data has been successfully imported into the '{table_name}' table in the database '{db_file_path}'.\")\n"
   ]
  }
 ],
 "metadata": {
  "kernelspec": {
   "display_name": "base",
   "language": "python",
   "name": "python3"
  },
  "language_info": {
   "codemirror_mode": {
    "name": "ipython",
    "version": 3
   },
   "file_extension": ".py",
   "mimetype": "text/x-python",
   "name": "python",
   "nbconvert_exporter": "python",
   "pygments_lexer": "ipython3",
   "version": "3.11.5"
  }
 },
 "nbformat": 4,
 "nbformat_minor": 2
}
